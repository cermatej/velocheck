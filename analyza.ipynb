{
 "cells": [
  {
   "cell_type": "markdown",
   "metadata": {},
   "source": [
    "# EDA"
   ]
  },
  {
   "cell_type": "code",
   "execution_count": 1,
   "metadata": {},
   "outputs": [],
   "source": [
    "import pandas as pd"
   ]
  },
  {
   "cell_type": "code",
   "execution_count": 2,
   "metadata": {},
   "outputs": [],
   "source": [
    "raw = pd.read_csv('extracted_data.csv')"
   ]
  },
  {
   "cell_type": "code",
   "execution_count": 3,
   "metadata": {},
   "outputs": [
    {
     "data": {
      "text/html": [
       "<div>\n",
       "<style scoped>\n",
       "    .dataframe tbody tr th:only-of-type {\n",
       "        vertical-align: middle;\n",
       "    }\n",
       "\n",
       "    .dataframe tbody tr th {\n",
       "        vertical-align: top;\n",
       "    }\n",
       "\n",
       "    .dataframe thead th {\n",
       "        text-align: right;\n",
       "    }\n",
       "</style>\n",
       "<table border=\"1\" class=\"dataframe\">\n",
       "  <thead>\n",
       "    <tr style=\"text-align: right;\">\n",
       "      <th></th>\n",
       "      <th>nazev</th>\n",
       "      <th>url</th>\n",
       "      <th>rozmery</th>\n",
       "      <th>cena</th>\n",
       "      <th>tagy</th>\n",
       "    </tr>\n",
       "  </thead>\n",
       "  <tbody>\n",
       "    <tr>\n",
       "      <th>0</th>\n",
       "      <td>Plovdivská, Praha - Modřany</td>\n",
       "      <td>/nemovitosti-byty-domy/646866-nabidka-prodej-b...</td>\n",
       "      <td>Prodej bytu 3+kk, 85 m²</td>\n",
       "      <td>7.590.000 Kč</td>\n",
       "      <td>MHD 3 minuty pěšky \\r\\n \\r\\nČástečně vybaveno ...</td>\n",
       "    </tr>\n",
       "    <tr>\n",
       "      <th>1</th>\n",
       "      <td>Praha - Ďáblice</td>\n",
       "      <td>/nemovitosti-byty-domy/652432-nabidka-prodej-b...</td>\n",
       "      <td>Prodej bytu 2+kk, 50 m²</td>\n",
       "      <td>4.700.000 Kč</td>\n",
       "      <td>MHD do minuty pěšky \\r\\n \\r\\nVybaveno \\r\\n \\r\\...</td>\n",
       "    </tr>\n",
       "    <tr>\n",
       "      <th>2</th>\n",
       "      <td>Konviktská, Praha - Staré Město</td>\n",
       "      <td>/nemovitosti-byty-domy/642660-nabidka-prodej-b...</td>\n",
       "      <td>Prodej bytu 3+1, 74 m²</td>\n",
       "      <td>8.990.000 Kč</td>\n",
       "      <td>MHD 5 minut pěšky \\r\\n \\r\\nVybaveno \\r\\n \\r\\nT...</td>\n",
       "    </tr>\n",
       "    <tr>\n",
       "      <th>3</th>\n",
       "      <td>U Průhonu, Praha - Holešovice</td>\n",
       "      <td>/nemovitosti-byty-domy/654099-nabidka-prodej-b...</td>\n",
       "      <td>Prodej bytu 2+kk, 56 m²</td>\n",
       "      <td>6.590.000 Kč</td>\n",
       "      <td>MHD 1 minuta pěšky \\r\\n \\r\\nČástečně vybaveno ...</td>\n",
       "    </tr>\n",
       "    <tr>\n",
       "      <th>4</th>\n",
       "      <td>Jinočany, Středočeský kraj</td>\n",
       "      <td>/nemovitosti-byty-domy/656099-nabidka-prodej-bytu</td>\n",
       "      <td>Prodej bytu 1+kk, 35 m²</td>\n",
       "      <td>4.000.000 Kč</td>\n",
       "      <td>MHD 6 minut pěšky \\r\\n \\r\\nVybaveno \\r\\n \\r\\nV...</td>\n",
       "    </tr>\n",
       "  </tbody>\n",
       "</table>\n",
       "</div>"
      ],
      "text/plain": [
       "                             nazev  \\\n",
       "0      Plovdivská, Praha - Modřany   \n",
       "1                  Praha - Ďáblice   \n",
       "2  Konviktská, Praha - Staré Město   \n",
       "3    U Průhonu, Praha - Holešovice   \n",
       "4       Jinočany, Středočeský kraj   \n",
       "\n",
       "                                                 url  \\\n",
       "0  /nemovitosti-byty-domy/646866-nabidka-prodej-b...   \n",
       "1  /nemovitosti-byty-domy/652432-nabidka-prodej-b...   \n",
       "2  /nemovitosti-byty-domy/642660-nabidka-prodej-b...   \n",
       "3  /nemovitosti-byty-domy/654099-nabidka-prodej-b...   \n",
       "4  /nemovitosti-byty-domy/656099-nabidka-prodej-bytu   \n",
       "\n",
       "                    rozmery           cena  \\\n",
       "0  Prodej bytu 3+kk, 85 m²   7.590.000 Kč    \n",
       "1  Prodej bytu 2+kk, 50 m²   4.700.000 Kč    \n",
       "2   Prodej bytu 3+1, 74 m²   8.990.000 Kč    \n",
       "3  Prodej bytu 2+kk, 56 m²   6.590.000 Kč    \n",
       "4  Prodej bytu 1+kk, 35 m²   4.000.000 Kč    \n",
       "\n",
       "                                                tagy  \n",
       "0  MHD 3 minuty pěšky \\r\\n \\r\\nČástečně vybaveno ...  \n",
       "1  MHD do minuty pěšky \\r\\n \\r\\nVybaveno \\r\\n \\r\\...  \n",
       "2  MHD 5 minut pěšky \\r\\n \\r\\nVybaveno \\r\\n \\r\\nT...  \n",
       "3  MHD 1 minuta pěšky \\r\\n \\r\\nČástečně vybaveno ...  \n",
       "4  MHD 6 minut pěšky \\r\\n \\r\\nVybaveno \\r\\n \\r\\nV...  "
      ]
     },
     "execution_count": 3,
     "metadata": {},
     "output_type": "execute_result"
    }
   ],
   "source": [
    "raw.head()"
   ]
  },
  {
   "cell_type": "code",
   "execution_count": 4,
   "metadata": {},
   "outputs": [
    {
     "data": {
      "text/html": [
       "<div>\n",
       "<style scoped>\n",
       "    .dataframe tbody tr th:only-of-type {\n",
       "        vertical-align: middle;\n",
       "    }\n",
       "\n",
       "    .dataframe tbody tr th {\n",
       "        vertical-align: top;\n",
       "    }\n",
       "\n",
       "    .dataframe thead th {\n",
       "        text-align: right;\n",
       "    }\n",
       "</style>\n",
       "<table border=\"1\" class=\"dataframe\">\n",
       "  <thead>\n",
       "    <tr style=\"text-align: right;\">\n",
       "      <th></th>\n",
       "      <th>nazev</th>\n",
       "      <th>url</th>\n",
       "      <th>rozmery</th>\n",
       "      <th>cena</th>\n",
       "      <th>tagy</th>\n",
       "    </tr>\n",
       "  </thead>\n",
       "  <tbody>\n",
       "    <tr>\n",
       "      <th>105</th>\n",
       "      <td>Herejkova, Starý Plzenec, Plzeňský kraj</td>\n",
       "      <td>/nemovitosti-byty-domy/655753-nabidka-prodej-b...</td>\n",
       "      <td>Prodej bytu 2+kk, 37 m²</td>\n",
       "      <td>1.800.000 Kč</td>\n",
       "      <td>MHD do minuty pěšky \\r\\n \\r\\nVybaveno \\r\\n \\r\\...</td>\n",
       "    </tr>\n",
       "    <tr>\n",
       "      <th>106</th>\n",
       "      <td>Spořická, Praha - Dolní Chabry</td>\n",
       "      <td>/nemovitosti-byty-domy/654707-nabidka-prodej-b...</td>\n",
       "      <td>Prodej bytu 3+kk, 84 m²</td>\n",
       "      <td>8.495.000 Kč</td>\n",
       "      <td>MHD do minuty pěšky \\r\\n \\r\\nVybaveno \\r\\n \\r\\...</td>\n",
       "    </tr>\n",
       "    <tr>\n",
       "      <th>107</th>\n",
       "      <td>Ve Smečkách, Praha - Nové Město</td>\n",
       "      <td>/nemovitosti-byty-domy/654705-nabidka-prodej-b...</td>\n",
       "      <td>Prodej bytu 2+kk, 58 m²</td>\n",
       "      <td>9.500.000 Kč</td>\n",
       "      <td>MHD 3 minuty pěšky \\r\\n \\r\\nVybaveno \\r\\n \\r\\n...</td>\n",
       "    </tr>\n",
       "    <tr>\n",
       "      <th>108</th>\n",
       "      <td>Praha - Vinohrady</td>\n",
       "      <td>/nemovitosti-byty-domy/655219-nabidka-prodej-bytu</td>\n",
       "      <td>Prodej bytu 4+kk, 120 m²</td>\n",
       "      <td>16.380.840 Kč</td>\n",
       "      <td>MHD 1 minuta pěšky \\r\\n \\r\\nVybaveno \\r\\n</td>\n",
       "    </tr>\n",
       "    <tr>\n",
       "      <th>109</th>\n",
       "      <td>Petržílkova, Praha - Stodůlky</td>\n",
       "      <td>/nemovitosti-byty-domy/655737-nabidka-prodej-b...</td>\n",
       "      <td>Prodej bytu 2+kk, 43 m²</td>\n",
       "      <td>4.990.000 Kč</td>\n",
       "      <td>MHD do minuty pěšky \\r\\n \\r\\nČástečně vybaveno...</td>\n",
       "    </tr>\n",
       "  </tbody>\n",
       "</table>\n",
       "</div>"
      ],
      "text/plain": [
       "                                       nazev  \\\n",
       "105  Herejkova, Starý Plzenec, Plzeňský kraj   \n",
       "106           Spořická, Praha - Dolní Chabry   \n",
       "107          Ve Smečkách, Praha - Nové Město   \n",
       "108                        Praha - Vinohrady   \n",
       "109            Petržílkova, Praha - Stodůlky   \n",
       "\n",
       "                                                   url  \\\n",
       "105  /nemovitosti-byty-domy/655753-nabidka-prodej-b...   \n",
       "106  /nemovitosti-byty-domy/654707-nabidka-prodej-b...   \n",
       "107  /nemovitosti-byty-domy/654705-nabidka-prodej-b...   \n",
       "108  /nemovitosti-byty-domy/655219-nabidka-prodej-bytu   \n",
       "109  /nemovitosti-byty-domy/655737-nabidka-prodej-b...   \n",
       "\n",
       "                       rozmery            cena  \\\n",
       "105   Prodej bytu 2+kk, 37 m²    1.800.000 Kč    \n",
       "106   Prodej bytu 3+kk, 84 m²    8.495.000 Kč    \n",
       "107   Prodej bytu 2+kk, 58 m²    9.500.000 Kč    \n",
       "108  Prodej bytu 4+kk, 120 m²   16.380.840 Kč    \n",
       "109   Prodej bytu 2+kk, 43 m²    4.990.000 Kč    \n",
       "\n",
       "                                                  tagy  \n",
       "105  MHD do minuty pěšky \\r\\n \\r\\nVybaveno \\r\\n \\r\\...  \n",
       "106  MHD do minuty pěšky \\r\\n \\r\\nVybaveno \\r\\n \\r\\...  \n",
       "107  MHD 3 minuty pěšky \\r\\n \\r\\nVybaveno \\r\\n \\r\\n...  \n",
       "108         MHD 1 minuta pěšky \\r\\n \\r\\nVybaveno \\r\\n   \n",
       "109  MHD do minuty pěšky \\r\\n \\r\\nČástečně vybaveno...  "
      ]
     },
     "execution_count": 4,
     "metadata": {},
     "output_type": "execute_result"
    }
   ],
   "source": [
    "raw.tail()"
   ]
  },
  {
   "cell_type": "code",
   "execution_count": 5,
   "metadata": {},
   "outputs": [
    {
     "data": {
      "text/plain": [
       "(110, 5)"
      ]
     },
     "execution_count": 5,
     "metadata": {},
     "output_type": "execute_result"
    }
   ],
   "source": [
    "raw.shape"
   ]
  },
  {
   "cell_type": "code",
   "execution_count": 6,
   "metadata": {},
   "outputs": [
    {
     "data": {
      "text/plain": [
       "nazev      0\n",
       "url        0\n",
       "rozmery    0\n",
       "cena       0\n",
       "tagy       0\n",
       "dtype: int64"
      ]
     },
     "execution_count": 6,
     "metadata": {},
     "output_type": "execute_result"
    }
   ],
   "source": [
    "raw.isna().sum()"
   ]
  },
  {
   "cell_type": "code",
   "execution_count": 7,
   "metadata": {},
   "outputs": [],
   "source": [
    "df = raw.copy()"
   ]
  },
  {
   "cell_type": "markdown",
   "metadata": {},
   "source": [
    "# FEATURE ENG"
   ]
  },
  {
   "cell_type": "code",
   "execution_count": 8,
   "metadata": {},
   "outputs": [],
   "source": [
    "import re\n",
    "\n",
    "def getDispositions(row):\n",
    "    dispozice = re.search(r'\\d[+][\\w]+', row)\n",
    "    return dispozice.group(0) if dispozice else \"\"\n",
    "\n",
    "df['dispozice'] = df['rozmery'].apply(getDispositions)"
   ]
  },
  {
   "cell_type": "code",
   "execution_count": 9,
   "metadata": {},
   "outputs": [],
   "source": [
    "def getMeters(row):\n",
    "    metraz = row.split(',')[-1].strip()\n",
    "    metry_cislo = re.search(r'\\d+', metraz)\n",
    "    return int(metry_cislo.group(0)) if metry_cislo else \"\"\n",
    "\n",
    "\n",
    "df['metraz'] = df['rozmery'].apply(getMeters)\n",
    "\n",
    "df.drop(['rozmery'], inplace = True, axis = 1)"
   ]
  },
  {
   "cell_type": "code",
   "execution_count": 10,
   "metadata": {},
   "outputs": [],
   "source": [
    "def fixPrice(row):\n",
    "    cut_currency =  row.split(' ')[0]\n",
    "    return int(cut_currency.replace('.', '').strip())\n",
    "\n",
    "df['cena'] = df['cena'].apply(fixPrice)"
   ]
  },
  {
   "cell_type": "code",
   "execution_count": 11,
   "metadata": {},
   "outputs": [],
   "source": [
    "def getMHD(row):\n",
    "    just_mhd_info = row.split(' \\r')[0]\n",
    "    minutes = re.search(r'\\d', just_mhd_info)\n",
    "    return minutes.group(0) if minutes else 1\n",
    "\n",
    "df['mhd'] = df['tagy'].apply(getMHD)"
   ]
  },
  {
   "cell_type": "code",
   "execution_count": 12,
   "metadata": {},
   "outputs": [],
   "source": [
    "def tokenizeTags(row):\n",
    "    tokens = row.split(' \\r\\n \\r\\n')\n",
    "    tokens[-1] = tokens[-1].replace(' \\r\\n ', '').strip()\n",
    "    tokens = tokens[1:] #dat pryc mhd\n",
    "    return tokens\n",
    "\n",
    "df['tagy_tokenized'] = df['tagy'].apply(tokenizeTags)\n",
    "df.drop(columns = ['tagy'], inplace = True)"
   ]
  },
  {
   "cell_type": "code",
   "execution_count": 13,
   "metadata": {},
   "outputs": [],
   "source": [
    "def getRegion(row):\n",
    "    if 'kraj' in str(row):\n",
    "        kraj = re.search(r'[a-zA-Zá-žÁ-Ž]* kraj', row)\n",
    "        kraj = kraj.group(0) if kraj else \"\"\n",
    "    else:\n",
    "        kraj = re.search(r'Praha - [a-zA-Zá-žÁ-Ž ]*', row)\n",
    "        kraj = kraj.group(0) if kraj else \"\"\n",
    "        kraj = kraj.split(' - ')[-1]\n",
    "    return kraj\n",
    "\n",
    "df['kraj'] = df['nazev'].apply(getRegion)"
   ]
  },
  {
   "cell_type": "code",
   "execution_count": 14,
   "metadata": {},
   "outputs": [],
   "source": [
    "df = df[~df['kraj'].str.contains(\"kraj\")]"
   ]
  },
  {
   "cell_type": "code",
   "execution_count": 15,
   "metadata": {},
   "outputs": [],
   "source": [
    "df_2 = pd.get_dummies(df['kraj'],drop_first=True)\n",
    "df = df.merge(df_2, right_index = True, left_index = True, how = 'left')"
   ]
  },
  {
   "cell_type": "markdown",
   "metadata": {},
   "source": [
    "# MODELLING"
   ]
  },
  {
   "cell_type": "code",
   "execution_count": 16,
   "metadata": {},
   "outputs": [],
   "source": [
    "from sklearn.preprocessing import MultiLabelBinarizer\n",
    "\n",
    "mlb = MultiLabelBinarizer()\n",
    "\n",
    "tokens = pd.DataFrame(mlb.fit_transform(df['tagy_tokenized']), columns = mlb.classes_, index = df.index)\n",
    "df = df.merge(tokens, right_index = True, left_index = True, how = 'left').drop(columns = ['tagy_tokenized'])"
   ]
  },
  {
   "cell_type": "code",
   "execution_count": 17,
   "metadata": {},
   "outputs": [],
   "source": [
    "from sklearn.preprocessing import OneHotEncoder\n",
    "\n",
    "# which cols to drop - aren't useful features \n",
    "cols_not_features = ['nazev', 'url', 'kraj']\n",
    "features = df.loc[:,~df.columns.isin(cols_not_features)]"
   ]
  },
  {
   "cell_type": "code",
   "execution_count": 18,
   "metadata": {},
   "outputs": [],
   "source": [
    "from sklearn.preprocessing import OneHotEncoder\n",
    "\n",
    "# which cols to drop - aren't useful features \n",
    "cols_not_features = ['nazev', 'url', 'kraj', 'dispozice']\n",
    "features = df.loc[:,~df.columns.isin(cols_not_features)]\n",
    "\n",
    "# one hot encode one variable\n",
    "#enc = OneHotEncoder()\n",
    "#dispozice_encoded = enc.fit_transform(features[['dispozice']])\n",
    "#dispozice_encoded = pd.DataFrame(dispozice_encoded.toarray(), columns = enc.categories_)\n",
    "\n",
    "# create final df\n",
    "#features = features.drop(columns = ['dispozice'])\n",
    "#dispozice_encoded = dispozice_encoded.set_index(df.index)\n",
    "#features = pd.concat([features, dispozice_encoded], axis=1)"
   ]
  },
  {
   "cell_type": "code",
   "execution_count": 26,
   "metadata": {},
   "outputs": [
    {
     "data": {
      "image/png": "[encoded data removed]",
      "text/plain": [
       "<Figure size 432x288 with 1 Axes>"
      ]
     },
     "metadata": {
      "needs_background": "light"
     },
     "output_type": "display_data"
    }
   ],
   "source": [
    "import seaborn as sns\n",
    "\n",
    "sns.histplot(data=features, x = 'cena');"
   ]
  },
  {
   "cell_type": "code",
   "execution_count": 27,
   "metadata": {},
   "outputs": [],
   "source": [
    "features = features.drop([features.index[features.cena.argmax()]])"
   ]
  },
  {
   "cell_type": "code",
   "execution_count": 28,
   "metadata": {},
   "outputs": [
    {
     "data": {
      "text/html": [
       "<div>\n",
       "<style scoped>\n",
       "    .dataframe tbody tr th:only-of-type {\n",
       "        vertical-align: middle;\n",
       "    }\n",
       "\n",
       "    .dataframe tbody tr th {\n",
       "        vertical-align: top;\n",
       "    }\n",
       "\n",
       "    .dataframe thead th {\n",
       "        text-align: right;\n",
       "    }\n",
       "</style>\n",
       "<table border=\"1\" class=\"dataframe\">\n",
       "  <thead>\n",
       "    <tr style=\"text-align: right;\">\n",
       "      <th></th>\n",
       "      <th>cena</th>\n",
       "      <th>metraz</th>\n",
       "      <th>mhd</th>\n",
       "      <th>Chodov</th>\n",
       "      <th>Dejvice</th>\n",
       "      <th>Dolní Chabry</th>\n",
       "      <th>Hlubočepy</th>\n",
       "      <th>Holešovice</th>\n",
       "      <th>Háje</th>\n",
       "      <th>Jinonice</th>\n",
       "      <th>...</th>\n",
       "      <th>Žižkov</th>\n",
       "      <th>Balkón</th>\n",
       "      <th>Garáž</th>\n",
       "      <th>Lodžie</th>\n",
       "      <th>Parkování</th>\n",
       "      <th>Sklep</th>\n",
       "      <th>Terasa</th>\n",
       "      <th>Vybaveno</th>\n",
       "      <th>Výtah</th>\n",
       "      <th>Částečně vybaveno</th>\n",
       "    </tr>\n",
       "  </thead>\n",
       "  <tbody>\n",
       "    <tr>\n",
       "      <th>0</th>\n",
       "      <td>7590000</td>\n",
       "      <td>85</td>\n",
       "      <td>3</td>\n",
       "      <td>0</td>\n",
       "      <td>0</td>\n",
       "      <td>0</td>\n",
       "      <td>0</td>\n",
       "      <td>0</td>\n",
       "      <td>0</td>\n",
       "      <td>0</td>\n",
       "      <td>...</td>\n",
       "      <td>0</td>\n",
       "      <td>0</td>\n",
       "      <td>1</td>\n",
       "      <td>0</td>\n",
       "      <td>0</td>\n",
       "      <td>1</td>\n",
       "      <td>0</td>\n",
       "      <td>0</td>\n",
       "      <td>1</td>\n",
       "      <td>1</td>\n",
       "    </tr>\n",
       "    <tr>\n",
       "      <th>1</th>\n",
       "      <td>4700000</td>\n",
       "      <td>50</td>\n",
       "      <td>1</td>\n",
       "      <td>0</td>\n",
       "      <td>0</td>\n",
       "      <td>0</td>\n",
       "      <td>0</td>\n",
       "      <td>0</td>\n",
       "      <td>0</td>\n",
       "      <td>0</td>\n",
       "      <td>...</td>\n",
       "      <td>0</td>\n",
       "      <td>0</td>\n",
       "      <td>0</td>\n",
       "      <td>0</td>\n",
       "      <td>0</td>\n",
       "      <td>1</td>\n",
       "      <td>0</td>\n",
       "      <td>1</td>\n",
       "      <td>0</td>\n",
       "      <td>0</td>\n",
       "    </tr>\n",
       "    <tr>\n",
       "      <th>2</th>\n",
       "      <td>8990000</td>\n",
       "      <td>74</td>\n",
       "      <td>5</td>\n",
       "      <td>0</td>\n",
       "      <td>0</td>\n",
       "      <td>0</td>\n",
       "      <td>0</td>\n",
       "      <td>0</td>\n",
       "      <td>0</td>\n",
       "      <td>0</td>\n",
       "      <td>...</td>\n",
       "      <td>0</td>\n",
       "      <td>0</td>\n",
       "      <td>0</td>\n",
       "      <td>0</td>\n",
       "      <td>0</td>\n",
       "      <td>0</td>\n",
       "      <td>1</td>\n",
       "      <td>1</td>\n",
       "      <td>0</td>\n",
       "      <td>0</td>\n",
       "    </tr>\n",
       "    <tr>\n",
       "      <th>3</th>\n",
       "      <td>6590000</td>\n",
       "      <td>56</td>\n",
       "      <td>1</td>\n",
       "      <td>0</td>\n",
       "      <td>0</td>\n",
       "      <td>0</td>\n",
       "      <td>0</td>\n",
       "      <td>1</td>\n",
       "      <td>0</td>\n",
       "      <td>0</td>\n",
       "      <td>...</td>\n",
       "      <td>0</td>\n",
       "      <td>1</td>\n",
       "      <td>0</td>\n",
       "      <td>0</td>\n",
       "      <td>0</td>\n",
       "      <td>1</td>\n",
       "      <td>0</td>\n",
       "      <td>0</td>\n",
       "      <td>1</td>\n",
       "      <td>1</td>\n",
       "    </tr>\n",
       "    <tr>\n",
       "      <th>5</th>\n",
       "      <td>13400000</td>\n",
       "      <td>86</td>\n",
       "      <td>4</td>\n",
       "      <td>0</td>\n",
       "      <td>0</td>\n",
       "      <td>0</td>\n",
       "      <td>0</td>\n",
       "      <td>0</td>\n",
       "      <td>0</td>\n",
       "      <td>1</td>\n",
       "      <td>...</td>\n",
       "      <td>0</td>\n",
       "      <td>1</td>\n",
       "      <td>0</td>\n",
       "      <td>0</td>\n",
       "      <td>1</td>\n",
       "      <td>1</td>\n",
       "      <td>0</td>\n",
       "      <td>1</td>\n",
       "      <td>1</td>\n",
       "      <td>0</td>\n",
       "    </tr>\n",
       "  </tbody>\n",
       "</table>\n",
       "<p>5 rows × 43 columns</p>\n",
       "</div>"
      ],
      "text/plain": [
       "       cena  metraz mhd  Chodov  Dejvice  Dolní Chabry  Hlubočepy  Holešovice  \\\n",
       "0   7590000      85   3       0        0             0          0           0   \n",
       "1   4700000      50   1       0        0             0          0           0   \n",
       "2   8990000      74   5       0        0             0          0           0   \n",
       "3   6590000      56   1       0        0             0          0           1   \n",
       "5  13400000      86   4       0        0             0          0           0   \n",
       "\n",
       "   Háje  Jinonice  ...  Žižkov  Balkón  Garáž  Lodžie  Parkování  Sklep  \\\n",
       "0     0         0  ...       0       0      1       0          0      1   \n",
       "1     0         0  ...       0       0      0       0          0      1   \n",
       "2     0         0  ...       0       0      0       0          0      0   \n",
       "3     0         0  ...       0       1      0       0          0      1   \n",
       "5     0         1  ...       0       1      0       0          1      1   \n",
       "\n",
       "   Terasa  Vybaveno  Výtah  Částečně vybaveno  \n",
       "0       0         0      1                  1  \n",
       "1       0         1      0                  0  \n",
       "2       1         1      0                  0  \n",
       "3       0         0      1                  1  \n",
       "5       0         1      1                  0  \n",
       "\n",
       "[5 rows x 43 columns]"
      ]
     },
     "execution_count": 28,
     "metadata": {},
     "output_type": "execute_result"
    }
   ],
   "source": [
    "features.head()"
   ]
  },
  {
   "cell_type": "code",
   "execution_count": 29,
   "metadata": {},
   "outputs": [],
   "source": [
    "stratify = pd.qcut(features['cena'], 5)"
   ]
  },
  {
   "cell_type": "code",
   "execution_count": 30,
   "metadata": {},
   "outputs": [],
   "source": [
    "from sklearn.model_selection import train_test_split\n",
    "\n",
    "y = features['cena']\n",
    "X = features.drop(columns = ['cena'])\n",
    "\n",
    "X_train, X_test, y_train, y_test = train_test_split(X, y, test_size = 0.2, random_state = 1, stratify = stratify)\n"
   ]
  },
  {
   "cell_type": "code",
   "execution_count": 31,
   "metadata": {},
   "outputs": [
    {
     "name": "stdout",
     "output_type": "stream",
     "text": [
      "Train X shape:(61, 42)\n",
      "Train y shape:(61,)\n",
      "Test X shape:(16, 42)\n",
      "Test y shape:(16,)\n"
     ]
    }
   ],
   "source": [
    "print('Train X shape:' + str(X_train.shape))\n",
    "print('Train y shape:' + str(y_train.shape))\n",
    "print('Test X shape:' + str(X_test.shape))\n",
    "print('Test y shape:' + str(y_test.shape))"
   ]
  },
  {
   "cell_type": "code",
   "execution_count": 32,
   "metadata": {},
   "outputs": [
    {
     "data": {
      "text/plain": [
       "Pipeline(steps=[('scaler', StandardScaler()),\n",
       "                ('rfr',\n",
       "                 RandomForestRegressor(n_estimators=500, random_state=42))])"
      ]
     },
     "execution_count": 32,
     "metadata": {},
     "output_type": "execute_result"
    }
   ],
   "source": [
    "from sklearn.pipeline import Pipeline\n",
    "from sklearn.preprocessing import StandardScaler\n",
    "from sklearn.ensemble import RandomForestRegressor\n",
    "\n",
    "scaler = StandardScaler()\n",
    "rfr = RandomForestRegressor(random_state=42, n_estimators = 500)\n",
    "\n",
    "pipe = Pipeline(steps=[('scaler', scaler),('rfr', rfr)])\n",
    "\n",
    "pipe.fit(X_train, y_train)\n"
   ]
  },
  {
   "cell_type": "code",
   "execution_count": 33,
   "metadata": {},
   "outputs": [
    {
     "data": {
      "text/plain": [
       "662812.118568725"
      ]
     },
     "execution_count": 33,
     "metadata": {},
     "output_type": "execute_result"
    }
   ],
   "source": [
    "from sklearn.metrics import mean_squared_error\n",
    "\n",
    "y_predicted_train = pipe.predict(X_train)\n",
    "\n",
    "mean_squared_error(y_train, y_predicted_train, squared = False)"
   ]
  },
  {
   "cell_type": "code",
   "execution_count": 34,
   "metadata": {},
   "outputs": [
    {
     "data": {
      "text/plain": [
       "(1364268.6102250365, 0.9647139985217562)"
      ]
     },
     "execution_count": 34,
     "metadata": {},
     "output_type": "execute_result"
    }
   ],
   "source": [
    "from sklearn.linear_model import ElasticNet\n",
    "from sklearn.metrics import r2_score\n",
    "\n",
    "elastic = ElasticNet(random_state = 42)\n",
    "\n",
    "pipe_lr = Pipeline(steps=[('scaler', scaler),('elastic', elastic)])\n",
    "\n",
    "pipe_lr.fit(X_train, y_train)\n",
    "\n",
    "y_predicted_train_lr = pipe_lr.predict(X_train)\n",
    "\n",
    "mean_squared_error(y_train, y_predicted_train_lr, squared = False), r2_score(y_train, y_predicted_train)"
   ]
  },
  {
   "cell_type": "code",
   "execution_count": 35,
   "metadata": {},
   "outputs": [
    {
     "data": {
      "text/plain": [
       "(1531417.8589665454, 1778612.7564603887)"
      ]
     },
     "execution_count": 35,
     "metadata": {},
     "output_type": "execute_result"
    }
   ],
   "source": [
    "y_predicted_test = pipe.predict(X_test)\n",
    "y_predicted_test_lr = pipe_lr.predict(X_test)\n",
    "\n",
    "mean_squared_error(y_test, y_predicted_test, squared = False), mean_squared_error(y_test, y_predicted_test_lr, squared = False), "
   ]
  },
  {
   "cell_type": "markdown",
   "metadata": {},
   "source": [
    "# PREDICTIONS"
   ]
  },
  {
   "cell_type": "code",
   "execution_count": 36,
   "metadata": {},
   "outputs": [],
   "source": [
    "df_with_predictions = X_train.copy()\n",
    "df_with_predictions['predikovana_cena'] = y_predicted_train\n",
    "df_with_predictions['aktualni_cena'] = y_train\n",
    "df_with_predictions = df_with_predictions.merge(raw[['nazev', 'url', 'rozmery']], \n",
    "                                                how = 'inner', right_index = True, left_index = True)"
   ]
  },
  {
   "cell_type": "code",
   "execution_count": 37,
   "metadata": {},
   "outputs": [],
   "source": [
    "df_with_predictions_test = X_test.copy()\n",
    "df_with_predictions_test['predikovana_cena'] = y_predicted_test\n",
    "df_with_predictions_test['aktualni_cena'] = y_test\n",
    "df_with_predictions_test = df_with_predictions_test.merge(raw[['nazev', 'url', 'rozmery']], \n",
    "                                                          how = 'inner', right_index = True, left_index = True)"
   ]
  },
  {
   "cell_type": "code",
   "execution_count": 38,
   "metadata": {
    "scrolled": true
   },
   "outputs": [],
   "source": [
    "df_with_predictions_final = df_with_predictions.append(df_with_predictions_test)\n",
    "assert(len(df_with_predictions)+len(df_with_predictions_test) == len(df_with_predictions_final))"
   ]
  },
  {
   "cell_type": "code",
   "execution_count": 39,
   "metadata": {},
   "outputs": [],
   "source": [
    "df_with_predictions_final['odhad_minus_realita'] = df_with_predictions_final['predikovana_cena'] \n",
    "- df_with_predictions_final['aktualni_cena']\n",
    "df_ = df_with_predictions_final.sort_values(by = 'odhad_minus_realita', ascending = False)\n",
    "df = df_[['nazev', 'predikovana_cena', 'aktualni_cena', 'url', 'rozmery', 'odhad_minus_realita']][:10]"
   ]
  },
  {
   "cell_type": "markdown",
   "metadata": {},
   "source": [
    "# WHICH TO BUY?"
   ]
  },
  {
   "cell_type": "code",
   "execution_count": 40,
   "metadata": {},
   "outputs": [],
   "source": [
    "def whichToBuy(how_many_realties, open_tabs = True):\n",
    "    import webbrowser as wb\n",
    "    df = df_[['nazev', 'predikovana_cena', 'aktualni_cena', 'url', 'rozmery', 'odhad_minus_realita']][:how_many_realties]\n",
    "    urls = []\n",
    "    for _, flat in df.iterrows():\n",
    "        url = 'https://bezrealitky.cz' + flat['url']\n",
    "        urls.append(url)\n",
    "    if open_tabs:\n",
    "        for url in urls:\n",
    "            wb.open(url)\n",
    "    else:\n",
    "        for i, url in enumerate(urls):\n",
    "            print(url,'\\n', df['nazev'].iloc[i],'---', df['aktualni_cena'].iloc[i], 'Kč', '---', df['rozmery'].iloc[i])"
   ]
  },
  {
   "cell_type": "code",
   "execution_count": 41,
   "metadata": {},
   "outputs": [
    {
     "name": "stdout",
     "output_type": "stream",
     "text": [
      "https://bezrealitky.cz/nemovitosti-byty-domy/655000-nabidka-prodej-bytu-stefanikova-hlavni-mesto-praha \n",
      " Štefánikova, Praha - Smíchov --- 16590000 Kč --- Prodej bytu 3+kk, 123 m² \n",
      "https://bezrealitky.cz/nemovitosti-byty-domy/654993-nabidka-prodej-bytu-stefanikova-hlavni-mesto-praha \n",
      " Štefánikova, Praha - Smíchov --- 15950000 Kč --- Prodej bytu 3+kk, 117 m² \n",
      "https://bezrealitky.cz/nemovitosti-byty-domy/655219-nabidka-prodej-bytu \n",
      " Praha - Vinohrady --- 16380840 Kč --- Prodej bytu 4+kk, 120 m² \n",
      "https://bezrealitky.cz/nemovitosti-byty-domy/631491-nabidka-prodej-bytu-stredni-praha \n",
      " Střední, Praha - Veleslavín --- 13900000 Kč --- Prodej bytu 6+kk, 137 m² \n",
      "https://bezrealitky.cz/nemovitosti-byty-domy/654997-nabidka-prodej-bytu-stefanikova-hlavni-mesto-praha \n",
      " Štefánikova, Praha - Smíchov --- 12790000 Kč --- Prodej bytu 4+kk, 96 m² \n",
      "https://bezrealitky.cz/nemovitosti-byty-domy/449267-nabidka-prodej-bytu-krocinova-praha-stare-mesto \n",
      " Krocínova, Praha - Staré Město --- 13490000 Kč --- Prodej bytu 3+kk, 95 m² \n",
      "https://bezrealitky.cz/nemovitosti-byty-domy/647653-nabidka-prodej-bytu-praha-vrsovice \n",
      " Praha - Vršovice --- 13000000 Kč --- Prodej bytu 3+kk, 101 m² \n",
      "https://bezrealitky.cz/nemovitosti-byty-domy/656068-nabidka-prodej-bytu-novolhotska-hlavni-mesto-praha \n",
      " Novolhotská, Praha - Újezd nad Lesy --- 9996000 Kč --- Prodej bytu 3+kk, 149 m² \n",
      "https://bezrealitky.cz/nemovitosti-byty-domy/655876-nabidka-prodej-bytu-kacirkova-hlavni-mesto-praha \n",
      " Kačirkova, Praha - Jinonice --- 12790000 Kč --- Prodej bytu 3+kk, 87 m² \n",
      "https://bezrealitky.cz/nemovitosti-byty-domy/594850-nabidka-prodej-bytu-na-morani-praha \n",
      " Na Moráni, Praha - Nové Město --- 10990000 Kč --- Prodej bytu 4+kk, 98 m² \n"
     ]
    }
   ],
   "source": [
    "# PRINTS URL, LOCATION, PRICE, PROPERTY SIZE\n",
    "\n",
    "whichToBuy(10, False)"
   ]
  },
  {
   "cell_type": "code",
   "execution_count": 163,
   "metadata": {},
   "outputs": [],
   "source": [
    "# OPENS TABS WITH REALTIES\n",
    "\n",
    "whichToBuy(5, True)"
   ]
  },
  {
   "cell_type": "code",
   "execution_count": null,
   "metadata": {},
   "outputs": [],
   "source": []
  }
 ],
 "metadata": {
  "kernelspec": {
   "display_name": "Python 3",
   "language": "python",
   "name": "python3"
  },
  "language_info": {
   "codemirror_mode": {
    "name": "ipython",
    "version": 3
   },
   "file_extension": ".py",
   "mimetype": "text/x-python",
   "name": "python",
   "nbconvert_exporter": "python",
   "pygments_lexer": "ipython3",
   "version": "3.7.9"
  }
 },
 "nbformat": 4,
 "nbformat_minor": 4
}
